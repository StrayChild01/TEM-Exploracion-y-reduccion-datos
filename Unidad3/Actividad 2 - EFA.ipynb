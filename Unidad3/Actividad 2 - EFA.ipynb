{
 "cells": [
  {
   "cell_type": "markdown",
   "metadata": {},
   "source": [
    "# Actividad 2"
   ]
  },
  {
   "cell_type": "markdown",
   "metadata": {},
   "source": [
    "Suponga que está encargado de realizar el(los) indicador(es) de marginación aplicando la técnica de Análisis de Factores Comunes. A partir de los datos presentados en la base de datos proporcionada, responda los cuestionamientos que se indican."
   ]
  },
  {
   "cell_type": "markdown",
   "metadata": {},
   "source": [
    "  1. Mencione cuál es el objeto o individuo que se está analizando en el presente caso.\n",
    "\n",
    "$\\color{teal}{\\text{El objeto de estudio es la entidad federativa.}}$\n",
    "\n",
    "$\\color{teal}{\\text{Las variables son los porcentajes de la población que vive en alguna situación de marginación.}}$\n",
    "\n",
    "  2. Identifica las variables que fueron medidas y, para cada una de ellas, mencionar el tipo de variables al que pertenece (cuantitativa o cualitativa) y la escala de medición empleada (categórica, ordinal, de razón, de intervalo).\n",
    "\n",
    "$\\color{teal}{\\text{Todas las variables son cuantitativas continuas con escala de medición de razón.}}$"
   ]
  },
  {
   "cell_type": "code",
   "execution_count": 1,
   "metadata": {},
   "outputs": [
    {
     "data": {
      "text/html": [
       "<table>\n",
       "<thead><tr><th></th><th scope=col>A</th><th scope=col>B</th><th scope=col>C</th><th scope=col>D</th><th scope=col>E</th><th scope=col>F</th><th scope=col>G</th><th scope=col>H</th><th scope=col>I</th></tr></thead>\n",
       "<tbody>\n",
       "\t<tr><th scope=row>Aguascalientes</th><td>2.60 </td><td>11.89</td><td>0.67 </td><td>0.30 </td><td>0.81 </td><td>21.86</td><td>0.75 </td><td>25.16</td><td>34.60</td></tr>\n",
       "\t<tr><th scope=row>Baja California</th><td>1.96 </td><td>10.46</td><td>0.26 </td><td>0.47 </td><td>2.82 </td><td>23.03</td><td>1.15 </td><td>10.35</td><td>22.85</td></tr>\n",
       "\t<tr><th scope=row>Baja California Sur</th><td>2.51 </td><td>11.59</td><td>0.38 </td><td>1.14 </td><td>7.15 </td><td>26.23</td><td>4.08 </td><td>15.64</td><td>22.37</td></tr>\n",
       "\t<tr><th scope=row>Campeche</th><td>6.68 </td><td>18.56</td><td>4.08 </td><td>1.59 </td><td>6.49 </td><td>37.93</td><td>2.95 </td><td>30.88</td><td>40.69</td></tr>\n",
       "\t<tr><th scope=row>Coahulia de Zaragoza</th><td>1.99 </td><td> 9.56</td><td>0.62 </td><td>0.29 </td><td>1.67 </td><td>23.62</td><td>0.66 </td><td>12.15</td><td>27.94</td></tr>\n",
       "</tbody>\n",
       "</table>\n"
      ],
      "text/latex": [
       "\\begin{tabular}{r|lllllllll}\n",
       "  & A & B & C & D & E & F & G & H & I\\\\\n",
       "\\hline\n",
       "\tAguascalientes & 2.60  & 11.89 & 0.67  & 0.30  & 0.81  & 21.86 & 0.75  & 25.16 & 34.60\\\\\n",
       "\tBaja California & 1.96  & 10.46 & 0.26  & 0.47  & 2.82  & 23.03 & 1.15  & 10.35 & 22.85\\\\\n",
       "\tBaja California Sur & 2.51  & 11.59 & 0.38  & 1.14  & 7.15  & 26.23 & 4.08  & 15.64 & 22.37\\\\\n",
       "\tCampeche & 6.68  & 18.56 & 4.08  & 1.59  & 6.49  & 37.93 & 2.95  & 30.88 & 40.69\\\\\n",
       "\tCoahulia de Zaragoza & 1.99  &  9.56 & 0.62  & 0.29  & 1.67  & 23.62 & 0.66  & 12.15 & 27.94\\\\\n",
       "\\end{tabular}\n"
      ],
      "text/markdown": [
       "\n",
       "| <!--/--> | A | B | C | D | E | F | G | H | I | \n",
       "|---|---|---|---|---|\n",
       "| Aguascalientes | 2.60  | 11.89 | 0.67  | 0.30  | 0.81  | 21.86 | 0.75  | 25.16 | 34.60 | \n",
       "| Baja California | 1.96  | 10.46 | 0.26  | 0.47  | 2.82  | 23.03 | 1.15  | 10.35 | 22.85 | \n",
       "| Baja California Sur | 2.51  | 11.59 | 0.38  | 1.14  | 7.15  | 26.23 | 4.08  | 15.64 | 22.37 | \n",
       "| Campeche | 6.68  | 18.56 | 4.08  | 1.59  | 6.49  | 37.93 | 2.95  | 30.88 | 40.69 | \n",
       "| Coahulia de Zaragoza | 1.99  |  9.56 | 0.62  | 0.29  | 1.67  | 23.62 | 0.66  | 12.15 | 27.94 | \n",
       "\n",
       "\n"
      ],
      "text/plain": [
       "                     A    B     C    D    E    F     G    H     I    \n",
       "Aguascalientes       2.60 11.89 0.67 0.30 0.81 21.86 0.75 25.16 34.60\n",
       "Baja California      1.96 10.46 0.26 0.47 2.82 23.03 1.15 10.35 22.85\n",
       "Baja California Sur  2.51 11.59 0.38 1.14 7.15 26.23 4.08 15.64 22.37\n",
       "Campeche             6.68 18.56 4.08 1.59 6.49 37.93 2.95 30.88 40.69\n",
       "Coahulia de Zaragoza 1.99  9.56 0.62 0.29 1.67 23.62 0.66 12.15 27.94"
      ]
     },
     "metadata": {},
     "output_type": "display_data"
    }
   ],
   "source": [
    "library(readxl)\n",
    "\n",
    "marginacion <- read_excel(\"datasets/pobreza.xlsx\", sheet=\"pobreza\")\n",
    "\n",
    "# Le ponemos el nombre del estado a cada observación.\n",
    "# Esto sirve para cuando haga las gráficas, los individuos\n",
    "# sean más fáciles de identificar\n",
    "marginacion <- as.data.frame(marginacion)\n",
    "rownames(marginacion)<-marginacion$`Entidad Federativa`\n",
    "\n",
    "# Eliminamos la columna\n",
    "marginacion$`Entidad Federativa` <- NULL\n",
    "\n",
    "head(marginacion, n=5)\n",
    "#dicc_clave[dicc_clave$clave==\"A\",] # Para filtrar\n",
    "dicc_clave <- data.frame(\n",
    "    clave=LETTERS[1:9],\n",
    "    valor=c(\n",
    "        \"% Población de 15 años o más analfabeta\",\n",
    "        \"% Población de 15 años o más sin primaria completa\",\n",
    "        \"% Ocupantes en viviendas sin drenaje ni excusado\",\n",
    "        \"% Ocupantes en viviendas sin energía eléctrica\",\n",
    "        \"% Ocupantes en viviendas sin agua entubada\",\n",
    "        \"% Viviendas con algún nivel de hacinamiento\",\n",
    "        \"% Ocupantes en viviendas con piso de tierra\",\n",
    "        \"% Población en localidades con menos de 5000 habitantes\",\n",
    "        \"% Población ocupada con ingresos de hasta 2 salarios mínimos\"\n",
    "    )\n",
    ")"
   ]
  },
  {
   "cell_type": "markdown",
   "metadata": {},
   "source": [
    "  3. ¿Los datos utilizados para el presente estudio son adecuados para realizar el Análisis Factorial? justificar la decisión tomada."
   ]
  },
  {
   "cell_type": "code",
   "execution_count": 2,
   "metadata": {},
   "outputs": [
    {
     "data": {
      "text/html": [
       "<table>\n",
       "<thead><tr><th></th><th scope=col>A</th><th scope=col>B</th><th scope=col>C</th><th scope=col>D</th><th scope=col>E</th><th scope=col>F</th><th scope=col>G</th><th scope=col>H</th><th scope=col>I</th></tr></thead>\n",
       "<tbody>\n",
       "\t<tr><th scope=row>A</th><td>1.0000000</td><td>0.9450281</td><td>0.5486208</td><td>0.6247657</td><td>0.8245441</td><td>0.7848772</td><td>0.8900595</td><td>0.7915577</td><td>0.8149328</td></tr>\n",
       "\t<tr><th scope=row>B</th><td>0.9450281</td><td>1.0000000</td><td>0.5193823</td><td>0.6240026</td><td>0.7628646</td><td>0.7216551</td><td>0.8279469</td><td>0.7899866</td><td>0.8314997</td></tr>\n",
       "\t<tr><th scope=row>C</th><td>0.5486208</td><td>0.5193823</td><td>1.0000000</td><td>0.4641169</td><td>0.3735529</td><td>0.5477190</td><td>0.4686395</td><td>0.4357832</td><td>0.4846212</td></tr>\n",
       "\t<tr><th scope=row>D</th><td>0.6247657</td><td>0.6240026</td><td>0.4641169</td><td>1.0000000</td><td>0.6479079</td><td>0.5064774</td><td>0.7289658</td><td>0.5581204</td><td>0.5256125</td></tr>\n",
       "\t<tr><th scope=row>E</th><td>0.8245441</td><td>0.7628646</td><td>0.3735529</td><td>0.6479079</td><td>1.0000000</td><td>0.6593796</td><td>0.8819914</td><td>0.6992020</td><td>0.6070533</td></tr>\n",
       "\t<tr><th scope=row>F</th><td>0.7848772</td><td>0.7216551</td><td>0.5477190</td><td>0.5064774</td><td>0.6593796</td><td>1.0000000</td><td>0.7058465</td><td>0.5517101</td><td>0.6756780</td></tr>\n",
       "\t<tr><th scope=row>G</th><td>0.8900595</td><td>0.8279469</td><td>0.4686395</td><td>0.7289658</td><td>0.8819914</td><td>0.7058465</td><td>1.0000000</td><td>0.6635604</td><td>0.6594581</td></tr>\n",
       "\t<tr><th scope=row>H</th><td>0.7915577</td><td>0.7899866</td><td>0.4357832</td><td>0.5581204</td><td>0.6992020</td><td>0.5517101</td><td>0.6635604</td><td>1.0000000</td><td>0.7629640</td></tr>\n",
       "\t<tr><th scope=row>I</th><td>0.8149328</td><td>0.8314997</td><td>0.4846212</td><td>0.5256125</td><td>0.6070533</td><td>0.6756780</td><td>0.6594581</td><td>0.7629640</td><td>1.0000000</td></tr>\n",
       "</tbody>\n",
       "</table>\n"
      ],
      "text/latex": [
       "\\begin{tabular}{r|lllllllll}\n",
       "  & A & B & C & D & E & F & G & H & I\\\\\n",
       "\\hline\n",
       "\tA & 1.0000000 & 0.9450281 & 0.5486208 & 0.6247657 & 0.8245441 & 0.7848772 & 0.8900595 & 0.7915577 & 0.8149328\\\\\n",
       "\tB & 0.9450281 & 1.0000000 & 0.5193823 & 0.6240026 & 0.7628646 & 0.7216551 & 0.8279469 & 0.7899866 & 0.8314997\\\\\n",
       "\tC & 0.5486208 & 0.5193823 & 1.0000000 & 0.4641169 & 0.3735529 & 0.5477190 & 0.4686395 & 0.4357832 & 0.4846212\\\\\n",
       "\tD & 0.6247657 & 0.6240026 & 0.4641169 & 1.0000000 & 0.6479079 & 0.5064774 & 0.7289658 & 0.5581204 & 0.5256125\\\\\n",
       "\tE & 0.8245441 & 0.7628646 & 0.3735529 & 0.6479079 & 1.0000000 & 0.6593796 & 0.8819914 & 0.6992020 & 0.6070533\\\\\n",
       "\tF & 0.7848772 & 0.7216551 & 0.5477190 & 0.5064774 & 0.6593796 & 1.0000000 & 0.7058465 & 0.5517101 & 0.6756780\\\\\n",
       "\tG & 0.8900595 & 0.8279469 & 0.4686395 & 0.7289658 & 0.8819914 & 0.7058465 & 1.0000000 & 0.6635604 & 0.6594581\\\\\n",
       "\tH & 0.7915577 & 0.7899866 & 0.4357832 & 0.5581204 & 0.6992020 & 0.5517101 & 0.6635604 & 1.0000000 & 0.7629640\\\\\n",
       "\tI & 0.8149328 & 0.8314997 & 0.4846212 & 0.5256125 & 0.6070533 & 0.6756780 & 0.6594581 & 0.7629640 & 1.0000000\\\\\n",
       "\\end{tabular}\n"
      ],
      "text/markdown": [
       "\n",
       "| <!--/--> | A | B | C | D | E | F | G | H | I | \n",
       "|---|---|---|---|---|---|---|---|---|\n",
       "| A | 1.0000000 | 0.9450281 | 0.5486208 | 0.6247657 | 0.8245441 | 0.7848772 | 0.8900595 | 0.7915577 | 0.8149328 | \n",
       "| B | 0.9450281 | 1.0000000 | 0.5193823 | 0.6240026 | 0.7628646 | 0.7216551 | 0.8279469 | 0.7899866 | 0.8314997 | \n",
       "| C | 0.5486208 | 0.5193823 | 1.0000000 | 0.4641169 | 0.3735529 | 0.5477190 | 0.4686395 | 0.4357832 | 0.4846212 | \n",
       "| D | 0.6247657 | 0.6240026 | 0.4641169 | 1.0000000 | 0.6479079 | 0.5064774 | 0.7289658 | 0.5581204 | 0.5256125 | \n",
       "| E | 0.8245441 | 0.7628646 | 0.3735529 | 0.6479079 | 1.0000000 | 0.6593796 | 0.8819914 | 0.6992020 | 0.6070533 | \n",
       "| F | 0.7848772 | 0.7216551 | 0.5477190 | 0.5064774 | 0.6593796 | 1.0000000 | 0.7058465 | 0.5517101 | 0.6756780 | \n",
       "| G | 0.8900595 | 0.8279469 | 0.4686395 | 0.7289658 | 0.8819914 | 0.7058465 | 1.0000000 | 0.6635604 | 0.6594581 | \n",
       "| H | 0.7915577 | 0.7899866 | 0.4357832 | 0.5581204 | 0.6992020 | 0.5517101 | 0.6635604 | 1.0000000 | 0.7629640 | \n",
       "| I | 0.8149328 | 0.8314997 | 0.4846212 | 0.5256125 | 0.6070533 | 0.6756780 | 0.6594581 | 0.7629640 | 1.0000000 | \n",
       "\n",
       "\n"
      ],
      "text/plain": [
       "  A         B         C         D         E         F         G        \n",
       "A 1.0000000 0.9450281 0.5486208 0.6247657 0.8245441 0.7848772 0.8900595\n",
       "B 0.9450281 1.0000000 0.5193823 0.6240026 0.7628646 0.7216551 0.8279469\n",
       "C 0.5486208 0.5193823 1.0000000 0.4641169 0.3735529 0.5477190 0.4686395\n",
       "D 0.6247657 0.6240026 0.4641169 1.0000000 0.6479079 0.5064774 0.7289658\n",
       "E 0.8245441 0.7628646 0.3735529 0.6479079 1.0000000 0.6593796 0.8819914\n",
       "F 0.7848772 0.7216551 0.5477190 0.5064774 0.6593796 1.0000000 0.7058465\n",
       "G 0.8900595 0.8279469 0.4686395 0.7289658 0.8819914 0.7058465 1.0000000\n",
       "H 0.7915577 0.7899866 0.4357832 0.5581204 0.6992020 0.5517101 0.6635604\n",
       "I 0.8149328 0.8314997 0.4846212 0.5256125 0.6070533 0.6756780 0.6594581\n",
       "  H         I        \n",
       "A 0.7915577 0.8149328\n",
       "B 0.7899866 0.8314997\n",
       "C 0.4357832 0.4846212\n",
       "D 0.5581204 0.5256125\n",
       "E 0.6992020 0.6070533\n",
       "F 0.5517101 0.6756780\n",
       "G 0.6635604 0.6594581\n",
       "H 1.0000000 0.7629640\n",
       "I 0.7629640 1.0000000"
      ]
     },
     "metadata": {},
     "output_type": "display_data"
    }
   ],
   "source": [
    "cor_marginacion <- cor(marginacion)\n",
    "cor_marginacion"
   ]
  },
  {
   "cell_type": "code",
   "execution_count": 3,
   "metadata": {},
   "outputs": [
    {
     "data": {
      "text/html": [
       "3.48607702470708e-05"
      ],
      "text/latex": [
       "3.48607702470708e-05"
      ],
      "text/markdown": [
       "3.48607702470708e-05"
      ],
      "text/plain": [
       "[1] 3.486077e-05"
      ]
     },
     "metadata": {},
     "output_type": "display_data"
    }
   ],
   "source": [
    "det(cor_marginacion)"
   ]
  },
  {
   "cell_type": "code",
   "execution_count": 4,
   "metadata": {},
   "outputs": [
    {
     "data": {
      "text/html": [
       "2.56209500051607e-39"
      ],
      "text/latex": [
       "2.56209500051607e-39"
      ],
      "text/markdown": [
       "2.56209500051607e-39"
      ],
      "text/plain": [
       "[1] 2.562095e-39"
      ]
     },
     "metadata": {},
     "output_type": "display_data"
    }
   ],
   "source": [
    "library(psych)\n",
    "num_obs <- nrow(marginacion)\n",
    "cortest.bartlett(cor_marginacion, n=num_obs)$p.value"
   ]
  },
  {
   "cell_type": "markdown",
   "metadata": {},
   "source": [
    "$\\color{teal}{\\text{Se ve que las correlaciones son altas y la determinante de la matriz es baja, por lo tanto se puede hacer el AF.}}$\n",
    "\n",
    "$\\color{teal}{\\text{Haciendo la prueba de Bartlett, se obtiene que α es muy pequeño (debajo de .05) y es conveniente realizar el AF.}}$"
   ]
  },
  {
   "cell_type": "markdown",
   "metadata": {},
   "source": [
    "  4. Utilizando el método de máxima verosimilitud, determinar el número de factores o variables latentes a ser considerados en el estudio. Justifique su respuesta"
   ]
  },
  {
   "cell_type": "code",
   "execution_count": 5,
   "metadata": {},
   "outputs": [
    {
     "data": {
      "text/html": [
       "0.886070212176287"
      ],
      "text/latex": [
       "0.886070212176287"
      ],
      "text/markdown": [
       "0.886070212176287"
      ],
      "text/plain": [
       "[1] 0.8860702"
      ]
     },
     "metadata": {},
     "output_type": "display_data"
    }
   ],
   "source": [
    "library(psych)\n",
    "kmo_marginacion <- KMO(marginacion)\n",
    "kmo_marginacion$MSA"
   ]
  },
  {
   "cell_type": "markdown",
   "metadata": {},
   "source": [
    "$\\color{teal}{\\text{Obtenemos un índice KMO bastante alto, y verificando cada uno de los MSA:}}$"
   ]
  },
  {
   "cell_type": "code",
   "execution_count": 6,
   "metadata": {},
   "outputs": [
    {
     "data": {
      "text/html": [
       "<dl class=dl-horizontal>\n",
       "\t<dt>A</dt>\n",
       "\t\t<dd>0.843494649638987</dd>\n",
       "\t<dt>B</dt>\n",
       "\t\t<dd>0.902370087492288</dd>\n",
       "\t<dt>C</dt>\n",
       "\t\t<dd>0.910416937878776</dd>\n",
       "\t<dt>D</dt>\n",
       "\t\t<dd>0.872715768010004</dd>\n",
       "\t<dt>E</dt>\n",
       "\t\t<dd>0.894283461211364</dd>\n",
       "\t<dt>F</dt>\n",
       "\t\t<dd>0.920496762828791</dd>\n",
       "\t<dt>G</dt>\n",
       "\t\t<dd>0.846888938036896</dd>\n",
       "\t<dt>H</dt>\n",
       "\t\t<dd>0.889329470132586</dd>\n",
       "\t<dt>I</dt>\n",
       "\t\t<dd>0.932922355842783</dd>\n",
       "</dl>\n"
      ],
      "text/latex": [
       "\\begin{description*}\n",
       "\\item[A] 0.843494649638987\n",
       "\\item[B] 0.902370087492288\n",
       "\\item[C] 0.910416937878776\n",
       "\\item[D] 0.872715768010004\n",
       "\\item[E] 0.894283461211364\n",
       "\\item[F] 0.920496762828791\n",
       "\\item[G] 0.846888938036896\n",
       "\\item[H] 0.889329470132586\n",
       "\\item[I] 0.932922355842783\n",
       "\\end{description*}\n"
      ],
      "text/markdown": [
       "A\n",
       ":   0.843494649638987B\n",
       ":   0.902370087492288C\n",
       ":   0.910416937878776D\n",
       ":   0.872715768010004E\n",
       ":   0.894283461211364F\n",
       ":   0.920496762828791G\n",
       ":   0.846888938036896H\n",
       ":   0.889329470132586I\n",
       ":   0.932922355842783\n",
       "\n"
      ],
      "text/plain": [
       "        A         B         C         D         E         F         G         H \n",
       "0.8434946 0.9023701 0.9104169 0.8727158 0.8942835 0.9204968 0.8468889 0.8893295 \n",
       "        I \n",
       "0.9329224 "
      ]
     },
     "metadata": {},
     "output_type": "display_data"
    }
   ],
   "source": [
    "kmo_marginacion$MSAi"
   ]
  },
  {
   "cell_type": "markdown",
   "metadata": {},
   "source": [
    "$\\color{teal}{\\text{Si nos quisiéramos aventurar a eliminar la variable con menor MSA, que en este caso es A, tendríamos:}}$"
   ]
  },
  {
   "cell_type": "code",
   "execution_count": 7,
   "metadata": {},
   "outputs": [
    {
     "data": {
      "text/html": [
       "0.875153072127192"
      ],
      "text/latex": [
       "0.875153072127192"
      ],
      "text/markdown": [
       "0.875153072127192"
      ],
      "text/plain": [
       "[1] 0.8751531"
      ]
     },
     "metadata": {},
     "output_type": "display_data"
    }
   ],
   "source": [
    "KMO(marginacion[,2:ncol(marginacion)])$MSA"
   ]
  },
  {
   "cell_type": "markdown",
   "metadata": {},
   "source": [
    "$\\color{teal}{\\text{Vemos que el índice empeora. Por tanto mantenemos todas las variables para el análisis.}}$"
   ]
  },
  {
   "cell_type": "code",
   "execution_count": 8,
   "metadata": {},
   "outputs": [
    {
     "data": {
      "text/html": [
       "<table>\n",
       "<thead><tr><th></th><th scope=col>ML2</th><th scope=col>ML1</th><th scope=col>ML3</th><th scope=col>ML4</th><th scope=col>ML5</th><th scope=col>ML9</th></tr></thead>\n",
       "<tbody>\n",
       "\t<tr><th scope=row>SS loadings</th><td>2.5258586   </td><td>2.3877154   </td><td>1.5702612   </td><td>0.51729494  </td><td>0.038847055 </td><td>5.373562e-32</td></tr>\n",
       "\t<tr><th scope=row>Proportion Var</th><td>0.2806510   </td><td>0.2653017   </td><td>0.1744735   </td><td>0.05747722  </td><td>0.004316339 </td><td>5.970625e-33</td></tr>\n",
       "\t<tr><th scope=row>Cumulative Var</th><td>0.2806510   </td><td>0.5459527   </td><td>0.7204261   </td><td>0.77790335  </td><td>0.782219687 </td><td>7.822197e-01</td></tr>\n",
       "\t<tr><th scope=row>Proportion Explained</th><td>0.3587879   </td><td>0.3391652   </td><td>0.2230492   </td><td>0.07347963  </td><td>0.005518065 </td><td>7.632925e-33</td></tr>\n",
       "\t<tr><th scope=row>Cumulative Proportion</th><td>0.3587879   </td><td>0.6979531   </td><td>0.9210023   </td><td>0.99448193  </td><td>1.000000000 </td><td>1.000000e+00</td></tr>\n",
       "</tbody>\n",
       "</table>\n"
      ],
      "text/latex": [
       "\\begin{tabular}{r|llllll}\n",
       "  & ML2 & ML1 & ML3 & ML4 & ML5 & ML9\\\\\n",
       "\\hline\n",
       "\tSS loadings & 2.5258586    & 2.3877154    & 1.5702612    & 0.51729494   & 0.038847055  & 5.373562e-32\\\\\n",
       "\tProportion Var & 0.2806510    & 0.2653017    & 0.1744735    & 0.05747722   & 0.004316339  & 5.970625e-33\\\\\n",
       "\tCumulative Var & 0.2806510    & 0.5459527    & 0.7204261    & 0.77790335   & 0.782219687  & 7.822197e-01\\\\\n",
       "\tProportion Explained & 0.3587879    & 0.3391652    & 0.2230492    & 0.07347963   & 0.005518065  & 7.632925e-33\\\\\n",
       "\tCumulative Proportion & 0.3587879    & 0.6979531    & 0.9210023    & 0.99448193   & 1.000000000  & 1.000000e+00\\\\\n",
       "\\end{tabular}\n"
      ],
      "text/markdown": [
       "\n",
       "| <!--/--> | ML2 | ML1 | ML3 | ML4 | ML5 | ML9 | \n",
       "|---|---|---|---|---|\n",
       "| SS loadings | 2.5258586    | 2.3877154    | 1.5702612    | 0.51729494   | 0.038847055  | 5.373562e-32 | \n",
       "| Proportion Var | 0.2806510    | 0.2653017    | 0.1744735    | 0.05747722   | 0.004316339  | 5.970625e-33 | \n",
       "| Cumulative Var | 0.2806510    | 0.5459527    | 0.7204261    | 0.77790335   | 0.782219687  | 7.822197e-01 | \n",
       "| Proportion Explained | 0.3587879    | 0.3391652    | 0.2230492    | 0.07347963   | 0.005518065  | 7.632925e-33 | \n",
       "| Cumulative Proportion | 0.3587879    | 0.6979531    | 0.9210023    | 0.99448193   | 1.000000000  | 1.000000e+00 | \n",
       "\n",
       "\n"
      ],
      "text/plain": [
       "                      ML2       ML1       ML3       ML4        ML5        \n",
       "SS loadings           2.5258586 2.3877154 1.5702612 0.51729494 0.038847055\n",
       "Proportion Var        0.2806510 0.2653017 0.1744735 0.05747722 0.004316339\n",
       "Cumulative Var        0.2806510 0.5459527 0.7204261 0.77790335 0.782219687\n",
       "Proportion Explained  0.3587879 0.3391652 0.2230492 0.07347963 0.005518065\n",
       "Cumulative Proportion 0.3587879 0.6979531 0.9210023 0.99448193 1.000000000\n",
       "                      ML9         \n",
       "SS loadings           5.373562e-32\n",
       "Proportion Var        5.970625e-33\n",
       "Cumulative Var        7.822197e-01\n",
       "Proportion Explained  7.632925e-33\n",
       "Cumulative Proportion 1.000000e+00"
      ]
     },
     "metadata": {},
     "output_type": "display_data"
    },
    {
     "data": {
      "text/html": [
       "<table>\n",
       "<thead><tr><th></th><th scope=col>ML6</th><th scope=col>ML8</th><th scope=col>ML7</th></tr></thead>\n",
       "<tbody>\n",
       "\t<tr><th scope=row>SS loadings</th><td>1.076377e-61</td><td>5.565707e-62</td><td>5.213223e-62</td></tr>\n",
       "\t<tr><th scope=row>Proportion Var</th><td>1.195974e-62</td><td>6.184119e-63</td><td>5.792470e-63</td></tr>\n",
       "\t<tr><th scope=row>Cumulative Var</th><td>7.822197e-01</td><td>7.822197e-01</td><td>7.822197e-01</td></tr>\n",
       "\t<tr><th scope=row>Proportion Explained</th><td>1.528949e-62</td><td>7.905859e-63</td><td>7.405170e-63</td></tr>\n",
       "\t<tr><th scope=row>Cumulative Proportion</th><td>1.000000e+00</td><td>1.000000e+00</td><td>1.000000e+00</td></tr>\n",
       "</tbody>\n",
       "</table>\n"
      ],
      "text/latex": [
       "\\begin{tabular}{r|lll}\n",
       "  & ML6 & ML8 & ML7\\\\\n",
       "\\hline\n",
       "\tSS loadings & 1.076377e-61 & 5.565707e-62 & 5.213223e-62\\\\\n",
       "\tProportion Var & 1.195974e-62 & 6.184119e-63 & 5.792470e-63\\\\\n",
       "\tCumulative Var & 7.822197e-01 & 7.822197e-01 & 7.822197e-01\\\\\n",
       "\tProportion Explained & 1.528949e-62 & 7.905859e-63 & 7.405170e-63\\\\\n",
       "\tCumulative Proportion & 1.000000e+00 & 1.000000e+00 & 1.000000e+00\\\\\n",
       "\\end{tabular}\n"
      ],
      "text/markdown": [
       "\n",
       "| <!--/--> | ML6 | ML8 | ML7 | \n",
       "|---|---|---|---|---|\n",
       "| SS loadings | 1.076377e-61 | 5.565707e-62 | 5.213223e-62 | \n",
       "| Proportion Var | 1.195974e-62 | 6.184119e-63 | 5.792470e-63 | \n",
       "| Cumulative Var | 7.822197e-01 | 7.822197e-01 | 7.822197e-01 | \n",
       "| Proportion Explained | 1.528949e-62 | 7.905859e-63 | 7.405170e-63 | \n",
       "| Cumulative Proportion | 1.000000e+00 | 1.000000e+00 | 1.000000e+00 | \n",
       "\n",
       "\n"
      ],
      "text/plain": [
       "                      ML6          ML8          ML7         \n",
       "SS loadings           1.076377e-61 5.565707e-62 5.213223e-62\n",
       "Proportion Var        1.195974e-62 6.184119e-63 5.792470e-63\n",
       "Cumulative Var        7.822197e-01 7.822197e-01 7.822197e-01\n",
       "Proportion Explained  1.528949e-62 7.905859e-63 7.405170e-63\n",
       "Cumulative Proportion 1.000000e+00 1.000000e+00 1.000000e+00"
      ]
     },
     "metadata": {},
     "output_type": "display_data"
    }
   ],
   "source": [
    "num_vars=ncol(marginacion)\n",
    "fa_marginacion <- fa(\n",
    "    marginacion\n",
    "    ,nfactors=num_vars    \n",
    "    ,rotate=\"varimax\"\n",
    "    ,fm=\"mle\"\n",
    "    ,max.iter=256\n",
    ")\n",
    "fa_marginacion$Vaccounted[,1:6] # Después del 6 se sale del margen :(\n",
    "fa_marginacion$Vaccounted[,7:9]\n",
    "#fa.diagram(fa_marginacion)"
   ]
  },
  {
   "cell_type": "markdown",
   "metadata": {},
   "source": [
    "$\\color{teal}{\\text{Viendo la proporcion acumulada, vemos que sólo necesitamos 3 factores para el análisis, porque \n",
    "con los tres}}$\n",
    "$\\color{teal}{\\text{primeros tenemos una explicación del 90\\%. Además, la proporción explicada de los factores 4-9 es muy baja.}}$"
   ]
  },
  {
   "cell_type": "code",
   "execution_count": 9,
   "metadata": {},
   "outputs": [
    {
     "data": {},
     "metadata": {},
     "output_type": "display_data"
    },
    {
     "data": {
      "image/png": "[encoded data removed]",
      "text/plain": [
       "plot without title"
      ]
     },
     "metadata": {},
     "output_type": "display_data"
    }
   ],
   "source": [
    "suppressMessages(library(ggplot2))\n",
    "\n",
    "eigenvalor <- eigen(cor_marginacion)\n",
    "\n",
    "df_cor_marg <- as.data.frame(eigenvalor)\n",
    "df_cor_marg$x_pos <- 1:length(df_cor_marg$values)\n",
    "\n",
    "ggplot(df_cor_marg, aes(y=values, x=df_cor_marg$x_pos)) +\n",
    "    scale_x_discrete(limits=df_cor_marg$x_pos, position = \"bottom\") +\n",
    "    geom_bar(stat=\"identity\", fill=\"#4682B4\") +\n",
    "    geom_line(color=\"#000000\")+\n",
    "    geom_point()+    \n",
    "    theme_minimal()+\n",
    "    labs(\n",
    "        title = \"Gráfica de Ladera\"\n",
    "        ,x = \"Factores\"\n",
    "        ,y = \"Eigenvalores\"\n",
    "    )   "
   ]
  },
  {
   "cell_type": "markdown",
   "metadata": {},
   "source": [
    "$\\color{teal}{\\text{En el gráfico de ladera vemos que sólo el primer componente sería válido si estuviéramos haciendo PCA}}$\n",
    "\n",
    "$\\color{teal}{\\text{con el criterio de Kaiser.}}$"
   ]
  },
  {
   "cell_type": "markdown",
   "metadata": {},
   "source": [
    "  5. Suponga que solo quiere emplear un único factor, responda a las siguientes preguntas:  \n",
    "    - ¿Cuáles son los valores de las comunalidades para cada una de las variables consideradas en el estudio?"
   ]
  },
  {
   "cell_type": "code",
   "execution_count": 10,
   "metadata": {},
   "outputs": [
    {
     "data": {
      "text/html": [
       "<table>\n",
       "<thead><tr><th></th><th scope=col>valor_comunalidad</th></tr></thead>\n",
       "<tbody>\n",
       "\t<tr><th scope=row>% Población de 15 años o más analfabeta</th><td>0.9790660</td></tr>\n",
       "\t<tr><th scope=row>% Población de 15 años o más sin primaria completa</th><td>0.9077043</td></tr>\n",
       "\t<tr><th scope=row>% Ocupantes en viviendas sin drenaje ni excusado</th><td>0.3061094</td></tr>\n",
       "\t<tr><th scope=row>% Ocupantes en viviendas sin energía eléctrica</th><td>0.4274867</td></tr>\n",
       "\t<tr><th scope=row>% Ocupantes en viviendas sin agua entubada</th><td>0.6995404</td></tr>\n",
       "\t<tr><th scope=row>% Viviendas con algún nivel de hacinamiento</th><td>0.6185704</td></tr>\n",
       "\t<tr><th scope=row>% Ocupantes en viviendas con piso de tierra</th><td>0.8048108</td></tr>\n",
       "\t<tr><th scope=row>% Población en localidades con menos de 5000 habitantes</th><td>0.6461571</td></tr>\n",
       "\t<tr><th scope=row>% Población ocupada con ingresos de hasta 2 salarios mínimos</th><td>0.6828491</td></tr>\n",
       "</tbody>\n",
       "</table>\n"
      ],
      "text/latex": [
       "\\begin{tabular}{r|l}\n",
       "  & valor\\_comunalidad\\\\\n",
       "\\hline\n",
       "\t\\% Población de 15 años o más analfabeta & 0.9790660\\\\\n",
       "\t\\% Población de 15 años o más sin primaria completa & 0.9077043\\\\\n",
       "\t\\% Ocupantes en viviendas sin drenaje ni excusado & 0.3061094\\\\\n",
       "\t\\% Ocupantes en viviendas sin energía eléctrica & 0.4274867\\\\\n",
       "\t\\% Ocupantes en viviendas sin agua entubada & 0.6995404\\\\\n",
       "\t\\% Viviendas con algún nivel de hacinamiento & 0.6185704\\\\\n",
       "\t\\% Ocupantes en viviendas con piso de tierra & 0.8048108\\\\\n",
       "\t\\% Población en localidades con menos de 5000 habitantes & 0.6461571\\\\\n",
       "\t\\% Población ocupada con ingresos de hasta 2 salarios mínimos & 0.6828491\\\\\n",
       "\\end{tabular}\n"
      ],
      "text/markdown": [
       "\n",
       "| <!--/--> | valor_comunalidad | \n",
       "|---|---|---|---|---|---|---|---|---|\n",
       "| % Población de 15 años o más analfabeta | 0.9790660 | \n",
       "| % Población de 15 años o más sin primaria completa | 0.9077043 | \n",
       "| % Ocupantes en viviendas sin drenaje ni excusado | 0.3061094 | \n",
       "| % Ocupantes en viviendas sin energía eléctrica | 0.4274867 | \n",
       "| % Ocupantes en viviendas sin agua entubada | 0.6995404 | \n",
       "| % Viviendas con algún nivel de hacinamiento | 0.6185704 | \n",
       "| % Ocupantes en viviendas con piso de tierra | 0.8048108 | \n",
       "| % Población en localidades con menos de 5000 habitantes | 0.6461571 | \n",
       "| % Población ocupada con ingresos de hasta 2 salarios mínimos | 0.6828491 | \n",
       "\n",
       "\n"
      ],
      "text/plain": [
       "                                                             valor_comunalidad\n",
       "% Población de 15 años o más analfabeta                      0.9790660        \n",
       "% Población de 15 años o más sin primaria completa           0.9077043        \n",
       "% Ocupantes en viviendas sin drenaje ni excusado             0.3061094        \n",
       "% Ocupantes en viviendas sin energía eléctrica               0.4274867        \n",
       "% Ocupantes en viviendas sin agua entubada                   0.6995404        \n",
       "% Viviendas con algún nivel de hacinamiento                  0.6185704        \n",
       "% Ocupantes en viviendas con piso de tierra                  0.8048108        \n",
       "% Población en localidades con menos de 5000 habitantes      0.6461571        \n",
       "% Población ocupada con ingresos de hasta 2 salarios mínimos 0.6828491        "
      ]
     },
     "metadata": {},
     "output_type": "display_data"
    }
   ],
   "source": [
    "fa_marg_1 <- fa(\n",
    "    marginacion\n",
    "    ,nfactors=1\n",
    "    ,rotate=\"varimax\"\n",
    "    ,fm=\"mle\"\n",
    "    ,max.iter=256\n",
    ")\n",
    "\n",
    "com_marginacion <- as.data.frame(fa_marg_1$communality)\n",
    "colnames(com_marginacion) <- c(\"valor_comunalidad\")\n",
    "rownames(com_marginacion)<-dicc_clave[,2]\n",
    "\n",
    "com_marginacion"
   ]
  },
  {
   "cell_type": "markdown",
   "metadata": {},
   "source": [
    "- ¿Cuáles son los dos índices que están más relacionados con la nueva variable o factor? Justifique su respuesta."
   ]
  },
  {
   "cell_type": "code",
   "execution_count": 11,
   "metadata": {},
   "outputs": [
    {
     "data": {
      "image/png": "[encoded data removed]",
      "text/plain": [
       "Plot with title \"Analisis de Factores de Marginación\""
      ]
     },
     "metadata": {},
     "output_type": "display_data"
    }
   ],
   "source": [
    "# Le cambiamos el nombre, para que sea más descriptivo\n",
    "colnames(fa_marg_1$loadings) <- c(\"Factor 1\") \n",
    "# Usando la función diagram para ver las cargas\n",
    "fa.diagram(fa_marg_1, main=\"Analisis de Factores de Marginación\")"
   ]
  },
  {
   "cell_type": "markdown",
   "metadata": {},
   "source": [
    "$\\color{teal}{\\text{En el diagrama anterior vemos que las dos variables con más carga hacia el Factor 1, son A y B.}}$\n",
    "$\\color{teal}{\\text{También podemos ver que la variable G está muy cerca de A y B}}$"
   ]
  },
  {
   "cell_type": "markdown",
   "metadata": {},
   "source": [
    "- ¿Qué nombre debe otorgarse a la variable latente para que el público en general comprenda lo que representa?\n",
    "\n",
    "$\\color{teal}{\\text{Marginación Social}}$"
   ]
  },
  {
   "cell_type": "markdown",
   "metadata": {},
   "source": [
    "  6. A partir del modelo generado y el análisis de los resultados responda las siguientes interrogantes: "
   ]
  },
  {
   "cell_type": "code",
   "execution_count": 12,
   "metadata": {},
   "outputs": [
    {
     "data": {
      "text/html": [
       "<table>\n",
       "<thead><tr><th></th><th scope=col>A</th><th scope=col>B</th></tr></thead>\n",
       "<tbody>\n",
       "\t<tr><th scope=row>Cuidad de México</th><td> 1.49</td><td> 6.62</td></tr>\n",
       "\t<tr><th scope=row>Nuevo Leon</th><td> 1.64</td><td> 8.38</td></tr>\n",
       "\t<tr><th scope=row>Baja California</th><td> 1.96</td><td>10.46</td></tr>\n",
       "\t<tr><th scope=row>Coahulia de Zaragoza</th><td> 1.99</td><td> 9.56</td></tr>\n",
       "\t<tr><th scope=row>Sonora</th><td> 2.19</td><td>11.15</td></tr>\n",
       "\t<tr><th scope=row>Baja California Sur</th><td> 2.51</td><td>11.59</td></tr>\n",
       "\t<tr><th scope=row>Aguascalientes</th><td> 2.60</td><td>11.89</td></tr>\n",
       "\t<tr><th scope=row>Chihuahua</th><td> 2.67</td><td>12.65</td></tr>\n",
       "\t<tr><th scope=row>Tamaulipas</th><td> 3.03</td><td>13.35</td></tr>\n",
       "\t<tr><th scope=row>Durango</th><td> 3.17</td><td>14.50</td></tr>\n",
       "\t<tr><th scope=row>Mexico</th><td> 3.37</td><td>11.77</td></tr>\n",
       "\t<tr><th scope=row>Jalisco</th><td> 3.55</td><td>14.90</td></tr>\n",
       "\t<tr><th scope=row>Quintana Roo</th><td> 3.90</td><td>13.31</td></tr>\n",
       "\t<tr><th scope=row>Colima</th><td> 3.90</td><td>15.24</td></tr>\n",
       "\t<tr><th scope=row>Tlaxcala</th><td> 3.98</td><td>12.60</td></tr>\n",
       "\t<tr><th scope=row>Sinaloa</th><td> 4.18</td><td>16.82</td></tr>\n",
       "\t<tr><th scope=row>Zacatecas</th><td> 4.42</td><td>19.31</td></tr>\n",
       "\t<tr><th scope=row>Queretaro</th><td> 4.57</td><td>10.01</td></tr>\n",
       "\t<tr><th scope=row>Morelos</th><td> 4.99</td><td>15.09</td></tr>\n",
       "\t<tr><th scope=row>Nayarit</th><td> 5.07</td><td>17.56</td></tr>\n",
       "\t<tr><th scope=row>Tabasco</th><td> 5.40</td><td>17.25</td></tr>\n",
       "\t<tr><th scope=row>San Luis Potosi</th><td> 6.33</td><td>18.87</td></tr>\n",
       "\t<tr><th scope=row>Guanajuato</th><td> 6.39</td><td>19.12</td></tr>\n",
       "\t<tr><th scope=row>Campeche</th><td> 6.68</td><td>18.56</td></tr>\n",
       "\t<tr><th scope=row>Yucatan</th><td> 7.47</td><td>21.17</td></tr>\n",
       "\t<tr><th scope=row>Hidalgo</th><td> 8.26</td><td>18.13</td></tr>\n",
       "\t<tr><th scope=row>Michoacan de Ocampo</th><td> 8.35</td><td>25.35</td></tr>\n",
       "\t<tr><th scope=row>Puebla</th><td> 8.39</td><td>21.32</td></tr>\n",
       "\t<tr><th scope=row>Veracruz de Ignacio de la Llave</th><td> 9.51</td><td>25.04</td></tr>\n",
       "\t<tr><th scope=row>Oaxaca</th><td>13.65</td><td>29.22</td></tr>\n",
       "\t<tr><th scope=row>Guerrero</th><td>13.73</td><td>27.25</td></tr>\n",
       "\t<tr><th scope=row>Chiapas</th><td>14.98</td><td>31.71</td></tr>\n",
       "</tbody>\n",
       "</table>\n"
      ],
      "text/latex": [
       "\\begin{tabular}{r|ll}\n",
       "  & A & B\\\\\n",
       "\\hline\n",
       "\tCuidad de México &  1.49 &  6.62\\\\\n",
       "\tNuevo Leon &  1.64 &  8.38\\\\\n",
       "\tBaja California &  1.96 & 10.46\\\\\n",
       "\tCoahulia de Zaragoza &  1.99 &  9.56\\\\\n",
       "\tSonora &  2.19 & 11.15\\\\\n",
       "\tBaja California Sur &  2.51 & 11.59\\\\\n",
       "\tAguascalientes &  2.60 & 11.89\\\\\n",
       "\tChihuahua &  2.67 & 12.65\\\\\n",
       "\tTamaulipas &  3.03 & 13.35\\\\\n",
       "\tDurango &  3.17 & 14.50\\\\\n",
       "\tMexico &  3.37 & 11.77\\\\\n",
       "\tJalisco &  3.55 & 14.90\\\\\n",
       "\tQuintana Roo &  3.90 & 13.31\\\\\n",
       "\tColima &  3.90 & 15.24\\\\\n",
       "\tTlaxcala &  3.98 & 12.60\\\\\n",
       "\tSinaloa &  4.18 & 16.82\\\\\n",
       "\tZacatecas &  4.42 & 19.31\\\\\n",
       "\tQueretaro &  4.57 & 10.01\\\\\n",
       "\tMorelos &  4.99 & 15.09\\\\\n",
       "\tNayarit &  5.07 & 17.56\\\\\n",
       "\tTabasco &  5.40 & 17.25\\\\\n",
       "\tSan Luis Potosi &  6.33 & 18.87\\\\\n",
       "\tGuanajuato &  6.39 & 19.12\\\\\n",
       "\tCampeche &  6.68 & 18.56\\\\\n",
       "\tYucatan &  7.47 & 21.17\\\\\n",
       "\tHidalgo &  8.26 & 18.13\\\\\n",
       "\tMichoacan de Ocampo &  8.35 & 25.35\\\\\n",
       "\tPuebla &  8.39 & 21.32\\\\\n",
       "\tVeracruz de Ignacio de la Llave &  9.51 & 25.04\\\\\n",
       "\tOaxaca & 13.65 & 29.22\\\\\n",
       "\tGuerrero & 13.73 & 27.25\\\\\n",
       "\tChiapas & 14.98 & 31.71\\\\\n",
       "\\end{tabular}\n"
      ],
      "text/markdown": [
       "\n",
       "| <!--/--> | A | B | \n",
       "|---|---|---|---|---|---|---|---|---|---|---|---|---|---|---|---|---|---|---|---|---|---|---|---|---|---|---|---|---|---|---|---|\n",
       "| Cuidad de México |  1.49 |  6.62 | \n",
       "| Nuevo Leon |  1.64 |  8.38 | \n",
       "| Baja California |  1.96 | 10.46 | \n",
       "| Coahulia de Zaragoza |  1.99 |  9.56 | \n",
       "| Sonora |  2.19 | 11.15 | \n",
       "| Baja California Sur |  2.51 | 11.59 | \n",
       "| Aguascalientes |  2.60 | 11.89 | \n",
       "| Chihuahua |  2.67 | 12.65 | \n",
       "| Tamaulipas |  3.03 | 13.35 | \n",
       "| Durango |  3.17 | 14.50 | \n",
       "| Mexico |  3.37 | 11.77 | \n",
       "| Jalisco |  3.55 | 14.90 | \n",
       "| Quintana Roo |  3.90 | 13.31 | \n",
       "| Colima |  3.90 | 15.24 | \n",
       "| Tlaxcala |  3.98 | 12.60 | \n",
       "| Sinaloa |  4.18 | 16.82 | \n",
       "| Zacatecas |  4.42 | 19.31 | \n",
       "| Queretaro |  4.57 | 10.01 | \n",
       "| Morelos |  4.99 | 15.09 | \n",
       "| Nayarit |  5.07 | 17.56 | \n",
       "| Tabasco |  5.40 | 17.25 | \n",
       "| San Luis Potosi |  6.33 | 18.87 | \n",
       "| Guanajuato |  6.39 | 19.12 | \n",
       "| Campeche |  6.68 | 18.56 | \n",
       "| Yucatan |  7.47 | 21.17 | \n",
       "| Hidalgo |  8.26 | 18.13 | \n",
       "| Michoacan de Ocampo |  8.35 | 25.35 | \n",
       "| Puebla |  8.39 | 21.32 | \n",
       "| Veracruz de Ignacio de la Llave |  9.51 | 25.04 | \n",
       "| Oaxaca | 13.65 | 29.22 | \n",
       "| Guerrero | 13.73 | 27.25 | \n",
       "| Chiapas | 14.98 | 31.71 | \n",
       "\n",
       "\n"
      ],
      "text/plain": [
       "                                A     B    \n",
       "Cuidad de México                 1.49  6.62\n",
       "Nuevo Leon                       1.64  8.38\n",
       "Baja California                  1.96 10.46\n",
       "Coahulia de Zaragoza             1.99  9.56\n",
       "Sonora                           2.19 11.15\n",
       "Baja California Sur              2.51 11.59\n",
       "Aguascalientes                   2.60 11.89\n",
       "Chihuahua                        2.67 12.65\n",
       "Tamaulipas                       3.03 13.35\n",
       "Durango                          3.17 14.50\n",
       "Mexico                           3.37 11.77\n",
       "Jalisco                          3.55 14.90\n",
       "Quintana Roo                     3.90 13.31\n",
       "Colima                           3.90 15.24\n",
       "Tlaxcala                         3.98 12.60\n",
       "Sinaloa                          4.18 16.82\n",
       "Zacatecas                        4.42 19.31\n",
       "Queretaro                        4.57 10.01\n",
       "Morelos                          4.99 15.09\n",
       "Nayarit                          5.07 17.56\n",
       "Tabasco                          5.40 17.25\n",
       "San Luis Potosi                  6.33 18.87\n",
       "Guanajuato                       6.39 19.12\n",
       "Campeche                         6.68 18.56\n",
       "Yucatan                          7.47 21.17\n",
       "Hidalgo                          8.26 18.13\n",
       "Michoacan de Ocampo              8.35 25.35\n",
       "Puebla                           8.39 21.32\n",
       "Veracruz de Ignacio de la Llave  9.51 25.04\n",
       "Oaxaca                          13.65 29.22\n",
       "Guerrero                        13.73 27.25\n",
       "Chiapas                         14.98 31.71"
      ]
     },
     "metadata": {},
     "output_type": "display_data"
    }
   ],
   "source": [
    "# Extraemos las variables con mayor carga y las ordenamos. \n",
    "marginacion[with(marginacion, order(A, B)),c(\"A\", \"B\"), drop=FALSE]\n",
    "# drop=FALSE es para que no quite los nombres"
   ]
  },
  {
   "cell_type": "markdown",
   "metadata": {},
   "source": [
    "- ¿Se comprueba que Nuevo León, CDMX y Sonora son entidades con menor marginación y que Chiapas, Guerrero y Oaxaca tienen una alta marginación?"
   ]
  },
  {
   "cell_type": "markdown",
   "metadata": {},
   "source": [
    "$\\color{teal}{\\text{En el caso de Oaxaca, Guerrero y Chiapas se ve que sí tienen la más alta marginación}}$\n",
    "\n",
    "$\\color{teal}{\\text{En el caso de los estados con menor marginación son Ciudad de México y Nuevo León; pero el tercer estado es}}$\n",
    "\n",
    "$\\color{teal}{\\text{Baja California, no Sonora.}}$"
   ]
  },
  {
   "cell_type": "markdown",
   "metadata": {},
   "source": [
    "- Si el estado de Tabasco quisiera mejorar su posición, a partir de este análisis ¿qué medida(s) deberá implementar?"
   ]
  },
  {
   "cell_type": "markdown",
   "metadata": {},
   "source": [
    "$\\color{teal}{\\text{Implementar programas para aumentar la educación primaria y alfabetización.}}$"
   ]
  }
 ],
 "metadata": {
  "kernelspec": {
   "display_name": "R",
   "language": "R",
   "name": "ir"
  },
  "language_info": {
   "codemirror_mode": "r",
   "file_extension": ".r",
   "mimetype": "text/x-r-source",
   "name": "R",
   "pygments_lexer": "r",
   "version": "3.3.3"
  },
  "latex_envs": {
   "LaTeX_envs_menu_present": true,
   "autoclose": false,
   "autocomplete": false,
   "bibliofile": "biblio.bib",
   "cite_by": "apalike",
   "current_citInitial": 1,
   "eqLabelWithNumbers": true,
   "eqNumInitial": 1,
   "hotkeys": {
    "equation": "Ctrl-E",
    "itemize": "Ctrl-I"
   },
   "labels_anchors": false,
   "latex_user_defs": false,
   "report_style_numbering": false,
   "user_envs_cfg": false
  }
 },
 "nbformat": 4,
 "nbformat_minor": 2
}
